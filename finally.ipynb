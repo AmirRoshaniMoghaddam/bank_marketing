{
 "cells": [
  {
   "cell_type": "code",
   "execution_count": 94,
   "id": "38192a96",
   "metadata": {},
   "outputs": [],
   "source": [
    "# importing necessary packages\n",
    "\n",
    "import numpy as np\n",
    "import pandas as pd\n",
    "import seaborn as sns\n",
    "import matplotlib.pyplot as plt\n",
    "import warnings\n",
    "warnings.filterwarnings('ignore')\n",
    "from sklearn.preprocessing import OneHotEncoder\n",
    "from sklearn.model_selection import StratifiedShuffleSplit\n",
    "from sklearn.model_selection import train_test_split\n",
    "from sklearn.linear_model import LogisticRegression\n",
    "from sklearn.linear_model import LogisticRegressionCV\n",
    "from sklearn.svm import SVC\n",
    "from sklearn.preprocessing import StandardScaler\n",
    "#!pip install imblearn\n",
    "from sklearn.utils import shuffle\n",
    "from sklearn.pipeline import Pipeline\n",
    "from sklearn.metrics import accuracy_score, classification_report, balanced_accuracy_score, confusion_matrix\n",
    "from sklearn.tree import DecisionTreeClassifier\n",
    "from sklearn.model_selection import GridSearchCV\n",
    "#rom imblearn.under_sampling import RandomUnderSampler\n",
    "from sklearn.ensemble import RandomForestClassifier\n",
    "from sklearn.metrics import roc_curve, auc\n",
    "from sklearn.metrics import roc_auc_score\n",
    "from sklearn.svm import SVC\n",
    "rs = 12 ### setting a global random_state\n",
    "pd.set_option('display.max_columns', None)"
   ]
  },
  {
   "cell_type": "code",
   "execution_count": 99,
   "id": "ea710729",
   "metadata": {},
   "outputs": [],
   "source": [
    "from src.cleaning import read_data, clean_data"
   ]
  },
  {
   "cell_type": "code",
   "execution_count": 100,
   "id": "a29969b9",
   "metadata": {},
   "outputs": [
    {
     "data": {
      "text/html": [
       "<div>\n",
       "<style scoped>\n",
       "    .dataframe tbody tr th:only-of-type {\n",
       "        vertical-align: middle;\n",
       "    }\n",
       "\n",
       "    .dataframe tbody tr th {\n",
       "        vertical-align: top;\n",
       "    }\n",
       "\n",
       "    .dataframe thead th {\n",
       "        text-align: right;\n",
       "    }\n",
       "</style>\n",
       "<table border=\"1\" class=\"dataframe\">\n",
       "  <thead>\n",
       "    <tr style=\"text-align: right;\">\n",
       "      <th></th>\n",
       "      <th>age</th>\n",
       "      <th>job</th>\n",
       "      <th>marital</th>\n",
       "      <th>education</th>\n",
       "      <th>default</th>\n",
       "      <th>housing</th>\n",
       "      <th>loan</th>\n",
       "      <th>contact</th>\n",
       "      <th>month</th>\n",
       "      <th>day_of_week</th>\n",
       "      <th>duration</th>\n",
       "      <th>campaign</th>\n",
       "      <th>pdays</th>\n",
       "      <th>previous</th>\n",
       "      <th>poutcome</th>\n",
       "      <th>emp.var.rate</th>\n",
       "      <th>cons.price.idx</th>\n",
       "      <th>cons.conf.idx</th>\n",
       "      <th>euribor3m</th>\n",
       "      <th>nr.employed</th>\n",
       "      <th>y</th>\n",
       "    </tr>\n",
       "  </thead>\n",
       "  <tbody>\n",
       "    <tr>\n",
       "      <th>0</th>\n",
       "      <td>56</td>\n",
       "      <td>housemaid</td>\n",
       "      <td>married</td>\n",
       "      <td>basic.4y</td>\n",
       "      <td>no</td>\n",
       "      <td>no</td>\n",
       "      <td>no</td>\n",
       "      <td>telephone</td>\n",
       "      <td>may</td>\n",
       "      <td>mon</td>\n",
       "      <td>261</td>\n",
       "      <td>1</td>\n",
       "      <td>999</td>\n",
       "      <td>0</td>\n",
       "      <td>nonexistent</td>\n",
       "      <td>1.1</td>\n",
       "      <td>93.994</td>\n",
       "      <td>-36.4</td>\n",
       "      <td>4.857</td>\n",
       "      <td>5191.0</td>\n",
       "      <td>no</td>\n",
       "    </tr>\n",
       "    <tr>\n",
       "      <th>1</th>\n",
       "      <td>57</td>\n",
       "      <td>services</td>\n",
       "      <td>married</td>\n",
       "      <td>high.school</td>\n",
       "      <td>unknown</td>\n",
       "      <td>no</td>\n",
       "      <td>no</td>\n",
       "      <td>telephone</td>\n",
       "      <td>may</td>\n",
       "      <td>mon</td>\n",
       "      <td>149</td>\n",
       "      <td>1</td>\n",
       "      <td>999</td>\n",
       "      <td>0</td>\n",
       "      <td>nonexistent</td>\n",
       "      <td>1.1</td>\n",
       "      <td>93.994</td>\n",
       "      <td>-36.4</td>\n",
       "      <td>4.857</td>\n",
       "      <td>5191.0</td>\n",
       "      <td>no</td>\n",
       "    </tr>\n",
       "    <tr>\n",
       "      <th>2</th>\n",
       "      <td>37</td>\n",
       "      <td>services</td>\n",
       "      <td>married</td>\n",
       "      <td>high.school</td>\n",
       "      <td>no</td>\n",
       "      <td>yes</td>\n",
       "      <td>no</td>\n",
       "      <td>telephone</td>\n",
       "      <td>may</td>\n",
       "      <td>mon</td>\n",
       "      <td>226</td>\n",
       "      <td>1</td>\n",
       "      <td>999</td>\n",
       "      <td>0</td>\n",
       "      <td>nonexistent</td>\n",
       "      <td>1.1</td>\n",
       "      <td>93.994</td>\n",
       "      <td>-36.4</td>\n",
       "      <td>4.857</td>\n",
       "      <td>5191.0</td>\n",
       "      <td>no</td>\n",
       "    </tr>\n",
       "    <tr>\n",
       "      <th>3</th>\n",
       "      <td>40</td>\n",
       "      <td>admin.</td>\n",
       "      <td>married</td>\n",
       "      <td>basic.6y</td>\n",
       "      <td>no</td>\n",
       "      <td>no</td>\n",
       "      <td>no</td>\n",
       "      <td>telephone</td>\n",
       "      <td>may</td>\n",
       "      <td>mon</td>\n",
       "      <td>151</td>\n",
       "      <td>1</td>\n",
       "      <td>999</td>\n",
       "      <td>0</td>\n",
       "      <td>nonexistent</td>\n",
       "      <td>1.1</td>\n",
       "      <td>93.994</td>\n",
       "      <td>-36.4</td>\n",
       "      <td>4.857</td>\n",
       "      <td>5191.0</td>\n",
       "      <td>no</td>\n",
       "    </tr>\n",
       "    <tr>\n",
       "      <th>4</th>\n",
       "      <td>56</td>\n",
       "      <td>services</td>\n",
       "      <td>married</td>\n",
       "      <td>high.school</td>\n",
       "      <td>no</td>\n",
       "      <td>no</td>\n",
       "      <td>yes</td>\n",
       "      <td>telephone</td>\n",
       "      <td>may</td>\n",
       "      <td>mon</td>\n",
       "      <td>307</td>\n",
       "      <td>1</td>\n",
       "      <td>999</td>\n",
       "      <td>0</td>\n",
       "      <td>nonexistent</td>\n",
       "      <td>1.1</td>\n",
       "      <td>93.994</td>\n",
       "      <td>-36.4</td>\n",
       "      <td>4.857</td>\n",
       "      <td>5191.0</td>\n",
       "      <td>no</td>\n",
       "    </tr>\n",
       "  </tbody>\n",
       "</table>\n",
       "</div>"
      ],
      "text/plain": [
       "   age        job  marital    education  default housing loan    contact  \\\n",
       "0   56  housemaid  married     basic.4y       no      no   no  telephone   \n",
       "1   57   services  married  high.school  unknown      no   no  telephone   \n",
       "2   37   services  married  high.school       no     yes   no  telephone   \n",
       "3   40     admin.  married     basic.6y       no      no   no  telephone   \n",
       "4   56   services  married  high.school       no      no  yes  telephone   \n",
       "\n",
       "  month day_of_week  duration  campaign  pdays  previous     poutcome  \\\n",
       "0   may         mon       261         1    999         0  nonexistent   \n",
       "1   may         mon       149         1    999         0  nonexistent   \n",
       "2   may         mon       226         1    999         0  nonexistent   \n",
       "3   may         mon       151         1    999         0  nonexistent   \n",
       "4   may         mon       307         1    999         0  nonexistent   \n",
       "\n",
       "   emp.var.rate  cons.price.idx  cons.conf.idx  euribor3m  nr.employed   y  \n",
       "0           1.1          93.994          -36.4      4.857       5191.0  no  \n",
       "1           1.1          93.994          -36.4      4.857       5191.0  no  \n",
       "2           1.1          93.994          -36.4      4.857       5191.0  no  \n",
       "3           1.1          93.994          -36.4      4.857       5191.0  no  \n",
       "4           1.1          93.994          -36.4      4.857       5191.0  no  "
      ]
     },
     "execution_count": 100,
     "metadata": {},
     "output_type": "execute_result"
    }
   ],
   "source": [
    "data_path = r\"C:\\Users\\brzro\\concordia_bootcamp\\bank_marketing\\data\\bank-additional\\bank-additional-full.csv\"\n",
    "df = read_data(data_path)\n",
    "\n",
    "df.head()"
   ]
  },
  {
   "cell_type": "code",
   "execution_count": 101,
   "id": "fcbf996e",
   "metadata": {},
   "outputs": [],
   "source": [
    "X,y = clean_data(df)\n"
   ]
  },
  {
   "cell_type": "code",
   "execution_count": null,
   "id": "b2a324c3",
   "metadata": {},
   "outputs": [],
   "source": []
  },
  {
   "cell_type": "code",
   "execution_count": 103,
   "id": "a91a8f0b",
   "metadata": {},
   "outputs": [],
   "source": [
    "from src.split_scaled import double_split_scale"
   ]
  },
  {
   "cell_type": "code",
   "execution_count": 104,
   "id": "8d53072b",
   "metadata": {},
   "outputs": [],
   "source": [
    "X_t_scaled, y_t, X_v_scaled, y_v, X_test_scaled, y_test = double_split_scale(X,y)"
   ]
  },
  {
   "cell_type": "code",
   "execution_count": 105,
   "id": "860c7941",
   "metadata": {},
   "outputs": [
    {
     "name": "stdout",
     "output_type": "stream",
     "text": [
      "0.113\n",
      "0.113\n",
      "0.113\n",
      "0.113\n"
     ]
    }
   ],
   "source": [
    "print(round(y.mean(),3))\n",
    "print(round(y_t.mean(),3))\n",
    "print(round(y_v.mean(),3))\n",
    "print(round(y_test.mean(),3))\n"
   ]
  },
  {
   "cell_type": "markdown",
   "id": "2cd3429a",
   "metadata": {},
   "source": [
    "# EDA"
   ]
  },
  {
   "cell_type": "code",
   "execution_count": 136,
   "id": "24376b48",
   "metadata": {},
   "outputs": [
    {
     "data": {
      "image/png": "[encoded data removed]",
      "text/plain": [
       "<Figure size 432x288 with 1 Axes>"
      ]
     },
     "metadata": {},
     "output_type": "display_data"
    }
   ],
   "source": [
    "x = [len(df[df['y'] == 'yes'])/len(df), len(df[df['y'] == 'no'])/len(df) ]\n",
    "plt.pie(x = x, labels=['subscribed', 'did not subscribe'], autopct='%.1f%%', shadow = 'yes');"
   ]
  },
  {
   "cell_type": "code",
   "execution_count": 141,
   "id": "e5e75b8d",
   "metadata": {},
   "outputs": [
    {
     "data": {
      "image/png": "[encoded data removed]",
      "text/plain": [
       "<Figure size 432x288 with 1 Axes>"
      ]
     },
     "metadata": {
      "needs_background": "light"
     },
     "output_type": "display_data"
    }
   ],
   "source": [
    "plt.figure(figsize=(6,4))\n",
    "sns.barplot(df['month'].value_counts().values, df['month'].value_counts().index) # how to add hue\n",
    "plt.title('month')\n",
    "plt.tight_layout();"
   ]
  },
  {
   "cell_type": "code",
   "execution_count": 147,
   "id": "363f1477",
   "metadata": {},
   "outputs": [
    {
     "data": {
      "image/png": "[encoded data removed]",
      "text/plain": [
       "<Figure size 432x288 with 1 Axes>"
      ]
     },
     "metadata": {
      "needs_background": "light"
     },
     "output_type": "display_data"
    }
   ],
   "source": [
    "plt.figure(figsize=(6,4))\n",
    "sns.barplot(df['contact'].value_counts().values, df['contact'].value_counts().index) # how to add hue\n",
    "plt.title('contact')\n",
    "plt.tight_layout();"
   ]
  },
  {
   "cell_type": "code",
   "execution_count": 143,
   "id": "60479490",
   "metadata": {},
   "outputs": [
    {
     "data": {
      "image/png": "[encoded data removed]",
      "text/plain": [
       "<Figure size 432x288 with 1 Axes>"
      ]
     },
     "metadata": {
      "needs_background": "light"
     },
     "output_type": "display_data"
    }
   ],
   "source": [
    "plt.figure(figsize=(6,4))\n",
    "sns.barplot(df['loan'].value_counts().values, df['loan'].value_counts().index) # how to add hue\n",
    "plt.title('loan')\n",
    "plt.tight_layout();"
   ]
  },
  {
   "cell_type": "markdown",
   "id": "c221aa7a",
   "metadata": {},
   "source": [
    "# Machine Learning Models"
   ]
  },
  {
   "cell_type": "markdown",
   "id": "b9350a1c",
   "metadata": {},
   "source": [
    "### 1- Logistic Regression"
   ]
  },
  {
   "cell_type": "code",
   "execution_count": null,
   "id": "fbdec662",
   "metadata": {},
   "outputs": [],
   "source": [
    "# from sklearn.linear_model import LogisticRegression\n",
    "# from sklearn.metrics import accuracy_score, classification_report, balanced_accuracy_score, confusion_matrix\n",
    "# from sklearn.tree import DecisionTreeClassifier\n",
    "# from sklearn.model_selection import GridSearchCV\n",
    "# from sklearn.metrics import roc_curve, auc\n",
    "# from sklearn.metrics import roc_auc_score\n",
    "# import joblib\n",
    "\n",
    "# def logistic_fit(X_t_scaled, y_t):\n",
    "    \n",
    "#     LR2=LogisticRegression(random_state= 12 , max_iter=1_000_000, class_weight = 'balanced')\n",
    "#     print('logistic regression is done on the training set')\n",
    "#     LR2.fit(X_t_scaled, y_t)\n",
    "#     joblib.dump(LR2, 'LR.joblib')\n",
    "    \n",
    "    \n",
    "    \n",
    "# def logistic_predictor(s):\n",
    "#     LR2 = joblib.load('LR.joblib')\n",
    "#     pred_lr2 = LR2.predict(s)\n",
    "#     return pred_lr2\n",
    "\n",
    "# def logistic_predict_proba(s):\n",
    "#     LR2 = joblib.load('LR.joblib')\n",
    "#     pred_proba = LR2.predict_proba(s)[:,1]\n",
    "#     return pred_proba"
   ]
  },
  {
   "cell_type": "code",
   "execution_count": 106,
   "id": "e22fc33f",
   "metadata": {},
   "outputs": [
    {
     "name": "stdout",
     "output_type": "stream",
     "text": [
      "logistic regression is done on the training set\n",
      "The Balanced Accuracy score of the Logistic Regression is: 72.06 %\n"
     ]
    }
   ],
   "source": [
    "from src.log_reg_model import logistic_fit, logistic_predictor, logistic_predict_proba\n",
    "logistic_fit(X_t_scaled, y_t)\n",
    "pred_lr = logistic_predictor(X_v_scaled)\n",
    "print('The Balanced Accuracy score of the Logistic Regression is:',\n",
    "      round(balanced_accuracy_score(y_v, pred_lr)*100, 2),'%')\n"
   ]
  },
  {
   "cell_type": "code",
   "execution_count": 108,
   "id": "46e95154",
   "metadata": {},
   "outputs": [
    {
     "name": "stdout",
     "output_type": "stream",
     "text": [
      "The AUC of the logistic regression is: 0.77\n"
     ]
    }
   ],
   "source": [
    "pred_proba_lr = logistic_predict_proba(X_v_scaled)\n",
    "AUC = roc_auc_score(y_v, pred_proba_lr)\n",
    "print('The AUC of the logistic regression is:', round(AUC,2))"
   ]
  },
  {
   "cell_type": "code",
   "execution_count": 41,
   "id": "da8e4633",
   "metadata": {},
   "outputs": [],
   "source": [
    "performance = {}\n",
    "performance['Logistic Regression'] = round(AUC,3)\n"
   ]
  },
  {
   "cell_type": "markdown",
   "id": "f93b19e7",
   "metadata": {},
   "source": [
    "### 2 - Support Vector Machines"
   ]
  },
  {
   "cell_type": "code",
   "execution_count": 55,
   "id": "d842a163",
   "metadata": {},
   "outputs": [],
   "source": [
    "# import numpy as np\n",
    "# import pandas as pd\n",
    "# from sklearn.svm import SVC\n",
    "# import joblib\n",
    "\n",
    "# def svc_fit(X_t_scaled, y_t):\n",
    "#     svc = SVC(random_state=12, class_weight='balanced')\n",
    "#     svc.fit(X_t_scaled, y_t)\n",
    "#     joblib.dump(svc, 'svc.joblib')\n",
    "    \n",
    "    \n",
    "    \n",
    "# def svc_predictor(X):\n",
    "#     svc = joblib.load('svc.joblib')\n",
    "#     pred = svc.predict(X)\n",
    "#     return pred\n",
    "\n",
    "# def svc_predict_proba(X):\n",
    "#     svc = joblib.load('svc.joblib')\n",
    "#     pred_proba = svc.predict_proba(X)[:,1]\n",
    "#     return pred_proba"
   ]
  },
  {
   "cell_type": "code",
   "execution_count": 124,
   "id": "7d13240b",
   "metadata": {},
   "outputs": [
    {
     "name": "stdout",
     "output_type": "stream",
     "text": [
      "The Balanced Accuracy score of the SVC is: 72.63 %\n"
     ]
    }
   ],
   "source": [
    "from src.svm_model import svc_fit, svc_predictor\n",
    "svc_fit(X_t_scaled, y_t)\n",
    "pred_svc = svc_predictor(X_v_scaled)\n",
    "print('The Balanced Accuracy score of the SVC is:',\n",
    "      round(balanced_accuracy_score(y_v, pred_svc)*100, 2),'%')"
   ]
  },
  {
   "cell_type": "code",
   "execution_count": null,
   "id": "76b4e4d0",
   "metadata": {},
   "outputs": [],
   "source": []
  },
  {
   "cell_type": "markdown",
   "id": "0b7a6b2d",
   "metadata": {},
   "source": [
    "### 3 - Decision Trees"
   ]
  },
  {
   "cell_type": "code",
   "execution_count": 69,
   "id": "f3da139a",
   "metadata": {},
   "outputs": [],
   "source": [
    "# import numpy as np\n",
    "# import pandas as pd\n",
    "# import joblib\n",
    "# from sklearn.tree import DecisionTreeClassifier\n",
    "\n",
    "\n",
    "\n",
    "# def dt_fit(X_t_scaled, y_t):\n",
    "#     tree_best = DecisionTreeClassifier(class_weight='balanced', max_depth=3,\n",
    "#                        max_features='auto', random_state=12)\n",
    "#     tree_best.fit(X_t_scaled, y_t)\n",
    "#     joblib.dump(tree_best, 'tree_best.joblib')\n",
    "    \n",
    "# def dt_predictor(X):\n",
    "#     tree_best = joblib.load('tree_best.joblib')\n",
    "#     pred = tree_best.predict(X)\n",
    "#     return pred\n",
    "    \n",
    "# def dt_predict_proba(X):\n",
    "#     tree_best = joblib.load('tree_best.joblib')\n",
    "#     pred_proba = tree_best.predict_proba(X)[:,1]\n",
    "#     return pred_proba"
   ]
  },
  {
   "cell_type": "code",
   "execution_count": 126,
   "id": "2ba5b4ca",
   "metadata": {},
   "outputs": [
    {
     "name": "stdout",
     "output_type": "stream",
     "text": [
      "The Balanced Accuracy score of the Decision Tree is: 69.52 %\n"
     ]
    }
   ],
   "source": [
    "from src.decision_tree import dt_fit, dt_predict_proba, dt_predictor\n",
    "dt_fit(X_t_scaled, y_t)\n",
    "pred_dt = dt_predictor(X_v_scaled)\n",
    "print('The Balanced Accuracy score of the Decision Tree is:',\n",
    "      round(balanced_accuracy_score(y_v, pred_dt)*100, 2),'%')"
   ]
  },
  {
   "cell_type": "code",
   "execution_count": 127,
   "id": "bb3ae30a",
   "metadata": {},
   "outputs": [
    {
     "name": "stdout",
     "output_type": "stream",
     "text": [
      "The AUC of the Decision Tree is: 0.72\n"
     ]
    }
   ],
   "source": [
    "pred_proba_dt = dt_predict_proba(X_v_scaled)\n",
    "AUC = roc_auc_score(y_v, pred_proba_dt)\n",
    "print('The AUC of the Decision Tree is:', round(AUC,2))"
   ]
  },
  {
   "cell_type": "code",
   "execution_count": 121,
   "id": "f5c19862",
   "metadata": {},
   "outputs": [],
   "source": [
    "performance['Decision Tree'] = round(AUC,3)"
   ]
  },
  {
   "cell_type": "markdown",
   "id": "fe319eb9",
   "metadata": {},
   "source": [
    "### 4 - Ensemble"
   ]
  },
  {
   "cell_type": "code",
   "execution_count": null,
   "id": "3be54f4d",
   "metadata": {},
   "outputs": [],
   "source": [
    "# import numpy as np\n",
    "# import pandas as pd\n",
    "# import joblib\n",
    "# from sklearn.ensemble import VotingClassifier\n",
    "\n",
    "# def ensemble_fit(X_t_scaled, y_t):\n",
    "#     LR2 = joblib.load('LR.joblib')\n",
    "#     svc = joblib.load('svc.joblib')\n",
    "#     tree_best = joblib.load('tree_best')\n",
    "#     vot = VotingClassifier(\n",
    "#     estimators=[('lr',LR2), ('svc', svc), ('tree', tree_best)],\n",
    "#     voting = 'hard')\n",
    "#     vot.fit(X_t_scaled, y_t)\n",
    "#     joblib.dump(vot, 'vot.joblib')\n",
    "    \n",
    "# def ensemble_predictor(X):\n",
    "#     vot = joblib.load('vot.joblib')\n",
    "#     pred = vot.predict(X)\n",
    "#     return pred\n",
    "    \n",
    "    \n",
    "# def ensemble_predict_proba(X):\n",
    "#     vot = joblib.load('vot.joblib')\n",
    "#     pred_proba = vot.predict_proba(X)[:,1]\n",
    "#     return pred_proba"
   ]
  },
  {
   "cell_type": "code",
   "execution_count": 144,
   "id": "71c1b6cf",
   "metadata": {},
   "outputs": [
    {
     "name": "stdout",
     "output_type": "stream",
     "text": [
      "The Balanced Accuracy of the Ensemble is: 72.08\n"
     ]
    }
   ],
   "source": [
    "from src.ens import ensemble_fit, ensemble_predictor, ensemble_predict_proba\n",
    "ensemble_fit(X_t_scaled, y_t)\n",
    "pred_ens = ensemble_predictor(X_v_scaled)\n",
    "print('The Balanced Accuracy of the Ensemble is:',\n",
    "     round(balanced_accuracy_score(y_v,pred_ens)*100,2))"
   ]
  },
  {
   "cell_type": "code",
   "execution_count": null,
   "id": "04826499",
   "metadata": {},
   "outputs": [],
   "source": []
  },
  {
   "cell_type": "code",
   "execution_count": null,
   "id": "4c655ccb",
   "metadata": {},
   "outputs": [],
   "source": []
  },
  {
   "cell_type": "code",
   "execution_count": null,
   "id": "97df200d",
   "metadata": {},
   "outputs": [],
   "source": []
  },
  {
   "cell_type": "code",
   "execution_count": null,
   "id": "bcc153e0",
   "metadata": {},
   "outputs": [],
   "source": []
  },
  {
   "cell_type": "code",
   "execution_count": null,
   "id": "c31e3465",
   "metadata": {},
   "outputs": [],
   "source": []
  },
  {
   "cell_type": "code",
   "execution_count": null,
   "id": "e982e63b",
   "metadata": {},
   "outputs": [],
   "source": []
  },
  {
   "cell_type": "code",
   "execution_count": null,
   "id": "a1bdc3dc",
   "metadata": {},
   "outputs": [],
   "source": []
  },
  {
   "cell_type": "code",
   "execution_count": null,
   "id": "3aa77b2e",
   "metadata": {},
   "outputs": [],
   "source": []
  },
  {
   "cell_type": "code",
   "execution_count": null,
   "id": "af678a80",
   "metadata": {},
   "outputs": [],
   "source": []
  }
 ],
 "metadata": {
  "kernelspec": {
   "display_name": "Python 3 (ipykernel)",
   "language": "python",
   "name": "python3"
  },
  "language_info": {
   "codemirror_mode": {
    "name": "ipython",
    "version": 3
   },
   "file_extension": ".py",
   "mimetype": "text/x-python",
   "name": "python",
   "nbconvert_exporter": "python",
   "pygments_lexer": "ipython3",
   "version": "3.9.12"
  }
 },
 "nbformat": 4,
 "nbformat_minor": 5
}
