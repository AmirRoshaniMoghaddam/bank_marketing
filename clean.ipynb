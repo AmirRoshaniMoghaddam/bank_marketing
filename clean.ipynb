{
 "cells": [
  {
   "cell_type": "code",
   "execution_count": 3,
   "id": "0555d0ac",
   "metadata": {},
   "outputs": [],
   "source": [
    "import numpy as np\n",
    "import pandas as pd\n",
    "import seaborn as sns\n",
    "import matplotlib.pyplot as plt\n",
    "import warnings\n",
    "warnings.filterwarnings('ignore')\n",
    "from sklearn.preprocessing import OneHotEncoder\n",
    "from sklearn.model_selection import StratifiedShuffleSplit\n",
    "from sklearn.model_selection import train_test_split\n",
    "from sklearn.linear_model import LogisticRegression\n",
    "from sklearn.linear_model import LogisticRegressionCV\n",
    "from sklearn.svm import SVC"
   ]
  },
  {
   "cell_type": "code",
   "execution_count": 4,
   "id": "a56a037c",
   "metadata": {},
   "outputs": [],
   "source": [
    "df = pd.read_csv(r\"C:\\Users\\brzro\\concordia_bootcamp\\bank_marketing\\data\\bank-additional\\bank-additional-full.csv\", sep = ';')\n",
    "pd.set_option('display.max_columns', None)"
   ]
  },
  {
   "cell_type": "code",
   "execution_count": 5,
   "id": "c83f46ec",
   "metadata": {},
   "outputs": [],
   "source": [
    "df = df.drop_duplicates().reset_index()"
   ]
  },
  {
   "cell_type": "code",
   "execution_count": 6,
   "id": "fa0e59ef",
   "metadata": {},
   "outputs": [
    {
     "data": {
      "text/plain": [
       "no     36537\n",
       "yes     4639\n",
       "Name: y, dtype: int64"
      ]
     },
     "execution_count": 6,
     "metadata": {},
     "output_type": "execute_result"
    }
   ],
   "source": [
    "\n",
    "df['y'].value_counts()"
   ]
  },
  {
   "cell_type": "markdown",
   "id": "227885ae",
   "metadata": {},
   "source": [
    "### Train_Test Split & Stratifying:\n",
    "\n",
    "since the number of positive answers is importatn in this analysis, we should have similar percentage of positives in either of the test and train sets as the percentage of positives in the original dataset. "
   ]
  },
  {
   "cell_type": "code",
   "execution_count": 7,
   "id": "2118f59c",
   "metadata": {},
   "outputs": [],
   "source": [
    "split = StratifiedShuffleSplit(n_splits = 1, test_size = 0.2, random_state = 42 )\n",
    "for train_index, test_index in split.split(df, df['y']):\n",
    "    strat_train = df.loc[train_index]\n",
    "    strat_test = df.loc[test_index]"
   ]
  },
  {
   "cell_type": "code",
   "execution_count": 8,
   "id": "21f19096",
   "metadata": {},
   "outputs": [
    {
     "name": "stdout",
     "output_type": "stream",
     "text": [
      "perdentage of yes in the original dataset 11.266\n",
      "perdentage of yes in strat_train 11.266\n",
      "perdentage of yes in strat_test 11.268\n"
     ]
    }
   ],
   "source": [
    "print('perdentage of yes in the original dataset', \n",
    "      round(len(df[df['y']=='yes'])*100/len(df), 3))\n",
    "\n",
    "print('perdentage of yes in strat_train', \n",
    "      round(len(strat_train[strat_train['y']=='yes'])*100/len(strat_train),3))\n",
    "\n",
    "print('perdentage of yes in strat_test', \n",
    "      round(len(strat_test[strat_test['y']=='yes'])*100/len(strat_test),3))\n",
    "\n",
    "\n",
    "# it is stratified successfully"
   ]
  },
  {
   "cell_type": "code",
   "execution_count": 9,
   "id": "a962cca8",
   "metadata": {},
   "outputs": [],
   "source": [
    "strat_train_X = strat_train.drop('y', axis = 1)\n",
    "strat_train_y = strat_train['y']"
   ]
  },
  {
   "cell_type": "code",
   "execution_count": 10,
   "id": "d26db800",
   "metadata": {},
   "outputs": [],
   "source": [
    "X_train, X_test, y_train, y_test = train_test_split(strat_train_X, strat_train_y, test_size=0.2, random_state=42, stratify = strat_train_y)"
   ]
  },
  {
   "cell_type": "code",
   "execution_count": 14,
   "id": "520de050",
   "metadata": {},
   "outputs": [
    {
     "name": "stdout",
     "output_type": "stream",
     "text": [
      "percentage of yes and no in the train set\n",
      " no     88.733303\n",
      "yes    11.266697\n",
      "Name: y, dtype: float64\n",
      "percentage of yes and no in the test set\n",
      " no     0.887371\n",
      "yes    0.112629\n",
      "Name: y, dtype: float64\n",
      "number of yes and no in the train set\n",
      " no     23383\n",
      "yes     2969\n",
      "Name: y, dtype: int64\n"
     ]
    }
   ],
   "source": [
    "# checking the stratification is done correctly\n",
    "\n",
    "print('percentage of yes and no in the train set\\n', \n",
    "      100*y_train.value_counts()/len(y_train))\n",
    "print('percentage of yes and no in the test set\\n',\n",
    "      y_test.value_counts()/len(y_test))\n",
    "print('number of yes and no in the train set\\n', \n",
    "      y_train.value_counts()) # data is highly imbalanced, tuning is required\n",
    "\n"
   ]
  },
  {
   "cell_type": "markdown",
   "id": "f7627447",
   "metadata": {},
   "source": [
    "### How to deal with the imbalanced data set?\n",
    "\n",
    "Most Machine Learning models work well when a classification problem is relatively balanced. Since the data is highly imbalanced, we should use downsampling, upsampling or provide a reason why we believe we shoud keep the data as it is."
   ]
  },
  {
   "cell_type": "code",
   "execution_count": null,
   "id": "d7d80c46",
   "metadata": {},
   "outputs": [],
   "source": []
  },
  {
   "cell_type": "code",
   "execution_count": null,
   "id": "83365f81",
   "metadata": {},
   "outputs": [],
   "source": []
  },
  {
   "cell_type": "code",
   "execution_count": null,
   "id": "9d6bf253",
   "metadata": {},
   "outputs": [],
   "source": []
  },
  {
   "cell_type": "code",
   "execution_count": null,
   "id": "031fe611",
   "metadata": {},
   "outputs": [],
   "source": []
  },
  {
   "cell_type": "code",
   "execution_count": null,
   "id": "8251e26b",
   "metadata": {},
   "outputs": [],
   "source": []
  }
 ],
 "metadata": {
  "kernelspec": {
   "display_name": "Python 3 (ipykernel)",
   "language": "python",
   "name": "python3"
  },
  "language_info": {
   "codemirror_mode": {
    "name": "ipython",
    "version": 3
   },
   "file_extension": ".py",
   "mimetype": "text/x-python",
   "name": "python",
   "nbconvert_exporter": "python",
   "pygments_lexer": "ipython3",
   "version": "3.9.12"
  }
 },
 "nbformat": 4,
 "nbformat_minor": 5
}
