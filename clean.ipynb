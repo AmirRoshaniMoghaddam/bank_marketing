{
 "cells": [
  {
   "cell_type": "code",
   "execution_count": 3,
   "id": "7f745305",
   "metadata": {},
   "outputs": [],
   "source": [
    "import numpy as np\n",
    "import pandas as pd\n",
    "import seaborn as sns\n",
    "import matplotlib.pyplot as plt\n",
    "import warnings\n",
    "warnings.filterwarnings('ignore')\n",
    "from sklearn.preprocessing import OneHotEncoder\n",
    "from sklearn.model_selection import StratifiedShuffleSplit\n",
    "from sklearn.model_selection import train_test_split"
   ]
  },
  {
   "cell_type": "code",
   "execution_count": 5,
   "id": "0896fcfc",
   "metadata": {},
   "outputs": [],
   "source": [
    "df = pd.read_csv(r\"C:\\Users\\brzro\\concordia_bootcamp\\bank_marketing\\data\\bank-additional\\bank-additional-full.csv\", sep = ';')\n",
    "pd.set_option('display.max_columns', None)"
   ]
  },
  {
   "cell_type": "code",
   "execution_count": 21,
   "id": "347abf66",
   "metadata": {},
   "outputs": [
    {
     "name": "stdout",
     "output_type": "stream",
     "text": [
      "0\n",
      "12\n",
      "0\n"
     ]
    }
   ],
   "source": [
    "print(df.isnull().sum().sum())\n",
    "print(df.duplicated().sum())\n",
    "df = df.drop_duplicates()\n",
    "print(df.duplicated().sum())"
   ]
  },
  {
   "cell_type": "markdown",
   "id": "4ef8eb14",
   "metadata": {},
   "source": [
    "### Stratifying:\n",
    "\n",
    "since the number of positive answers is importatn in this analysis, we should have similar percentage of positives in either of the test and train sets as the percentage of positives in the original dataset. "
   ]
  },
  {
   "cell_type": "code",
   "execution_count": 7,
   "id": "348232f2",
   "metadata": {},
   "outputs": [],
   "source": [
    "split = StratifiedShuffleSplit(n_splits = 1, test_size = 0.2, random_state = 42 )\n",
    "for train_index, test_index in split.split(df, df['y']):\n",
    "    strat_train = df.loc[train_index]\n",
    "    strat_test = df.loc[test_index]"
   ]
  },
  {
   "cell_type": "code",
   "execution_count": 18,
   "id": "28eddc5f",
   "metadata": {},
   "outputs": [
    {
     "name": "stdout",
     "output_type": "stream",
     "text": [
      "perdentage of yes in the original dataset 11.265\n",
      "perdentage of yes in strat_train 11.266\n",
      "perdentage of yes in strat_test 11.265\n"
     ]
    }
   ],
   "source": [
    "print('perdentage of yes in the original dataset', \n",
    "      round(len(df[df['y']=='yes'])*100/len(df), 3))\n",
    "\n",
    "print('perdentage of yes in strat_train', \n",
    "      round(len(strat_train[strat_train['y']=='yes'])*100/len(strat_train),3))\n",
    "\n",
    "print('perdentage of yes in strat_test', \n",
    "      round(len(strat_test[strat_test['y']=='yes'])*100/len(strat_test),3))\n",
    "\n",
    "\n",
    "# it is stratified successfully"
   ]
  },
  {
   "cell_type": "code",
   "execution_count": null,
   "id": "4e9ad354",
   "metadata": {},
   "outputs": [],
   "source": []
  },
  {
   "cell_type": "code",
   "execution_count": null,
   "id": "63bcb57f",
   "metadata": {},
   "outputs": [],
   "source": []
  },
  {
   "cell_type": "code",
   "execution_count": null,
   "id": "e5feabc8",
   "metadata": {},
   "outputs": [],
   "source": []
  },
  {
   "cell_type": "code",
   "execution_count": null,
   "id": "b55ae381",
   "metadata": {},
   "outputs": [],
   "source": []
  },
  {
   "cell_type": "code",
   "execution_count": null,
   "id": "250ff5bf",
   "metadata": {},
   "outputs": [],
   "source": []
  },
  {
   "cell_type": "code",
   "execution_count": null,
   "id": "73396490",
   "metadata": {},
   "outputs": [],
   "source": []
  },
  {
   "cell_type": "code",
   "execution_count": null,
   "id": "f2b5c44d",
   "metadata": {},
   "outputs": [],
   "source": []
  },
  {
   "cell_type": "code",
   "execution_count": null,
   "id": "f48bbcdd",
   "metadata": {},
   "outputs": [],
   "source": []
  }
 ],
 "metadata": {
  "kernelspec": {
   "display_name": "Python 3 (ipykernel)",
   "language": "python",
   "name": "python3"
  },
  "language_info": {
   "codemirror_mode": {
    "name": "ipython",
    "version": 3
   },
   "file_extension": ".py",
   "mimetype": "text/x-python",
   "name": "python",
   "nbconvert_exporter": "python",
   "pygments_lexer": "ipython3",
   "version": "3.9.12"
  }
 },
 "nbformat": 4,
 "nbformat_minor": 5
}
