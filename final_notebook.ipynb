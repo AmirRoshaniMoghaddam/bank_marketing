{
 "cells": [
  {
   "cell_type": "code",
   "execution_count": 1,
   "id": "34158104",
   "metadata": {},
   "outputs": [],
   "source": [
    "# importing necessary packages\n",
    "\n",
    "import numpy as np\n",
    "import pandas as pd\n",
    "import seaborn as sns\n",
    "import matplotlib.pyplot as plt\n",
    "import warnings\n",
    "warnings.filterwarnings('ignore')\n",
    "from sklearn.preprocessing import OneHotEncoder\n",
    "from sklearn.model_selection import StratifiedShuffleSplit\n",
    "from sklearn.model_selection import train_test_split\n",
    "from sklearn.linear_model import LogisticRegression\n",
    "from sklearn.linear_model import LogisticRegressionCV\n",
    "from sklearn.svm import SVC\n",
    "from sklearn.preprocessing import StandardScaler\n",
    "#!pip install imblearn\n",
    "from sklearn.utils import shuffle\n",
    "from sklearn.pipeline import Pipeline\n",
    "from sklearn.metrics import accuracy_score, classification_report, balanced_accuracy_score, confusion_matrix\n",
    "from sklearn.tree import DecisionTreeClassifier\n",
    "from sklearn.model_selection import GridSearchCV\n",
    "#rom imblearn.under_sampling import RandomUnderSampler\n",
    "from sklearn.ensemble import RandomForestClassifier\n",
    "from sklearn.metrics import roc_curve, auc\n",
    "from sklearn.metrics import roc_auc_score\n",
    "from sklearn.svm import SVC\n",
    "rs = 12 ### setting a global random_state\n",
    "pd.set_option('display.max_columns', None)\n",
    "import json\n",
    "from sklearn.pipeline import Pipeline\n",
    "import pickle"
   ]
  },
  {
   "cell_type": "markdown",
   "id": "2a7a7813",
   "metadata": {},
   "source": [
    "# Data Cleaning:"
   ]
  },
  {
   "cell_type": "code",
   "execution_count": 2,
   "id": "740de751",
   "metadata": {},
   "outputs": [],
   "source": [
    "from src.cleaning import read_data, clean_data"
   ]
  },
  {
   "cell_type": "code",
   "execution_count": 3,
   "id": "dfc1a33d",
   "metadata": {},
   "outputs": [
    {
     "data": {
      "text/html": [
       "<div>\n",
       "<style scoped>\n",
       "    .dataframe tbody tr th:only-of-type {\n",
       "        vertical-align: middle;\n",
       "    }\n",
       "\n",
       "    .dataframe tbody tr th {\n",
       "        vertical-align: top;\n",
       "    }\n",
       "\n",
       "    .dataframe thead th {\n",
       "        text-align: right;\n",
       "    }\n",
       "</style>\n",
       "<table border=\"1\" class=\"dataframe\">\n",
       "  <thead>\n",
       "    <tr style=\"text-align: right;\">\n",
       "      <th></th>\n",
       "      <th>age</th>\n",
       "      <th>job</th>\n",
       "      <th>marital</th>\n",
       "      <th>education</th>\n",
       "      <th>default</th>\n",
       "      <th>housing</th>\n",
       "      <th>loan</th>\n",
       "      <th>contact</th>\n",
       "      <th>month</th>\n",
       "      <th>day_of_week</th>\n",
       "      <th>duration</th>\n",
       "      <th>campaign</th>\n",
       "      <th>pdays</th>\n",
       "      <th>previous</th>\n",
       "      <th>poutcome</th>\n",
       "      <th>emp.var.rate</th>\n",
       "      <th>cons.price.idx</th>\n",
       "      <th>cons.conf.idx</th>\n",
       "      <th>euribor3m</th>\n",
       "      <th>nr.employed</th>\n",
       "      <th>y</th>\n",
       "    </tr>\n",
       "  </thead>\n",
       "  <tbody>\n",
       "    <tr>\n",
       "      <th>0</th>\n",
       "      <td>56</td>\n",
       "      <td>housemaid</td>\n",
       "      <td>married</td>\n",
       "      <td>basic.4y</td>\n",
       "      <td>no</td>\n",
       "      <td>no</td>\n",
       "      <td>no</td>\n",
       "      <td>telephone</td>\n",
       "      <td>may</td>\n",
       "      <td>mon</td>\n",
       "      <td>261</td>\n",
       "      <td>1</td>\n",
       "      <td>999</td>\n",
       "      <td>0</td>\n",
       "      <td>nonexistent</td>\n",
       "      <td>1.1</td>\n",
       "      <td>93.994</td>\n",
       "      <td>-36.4</td>\n",
       "      <td>4.857</td>\n",
       "      <td>5191.0</td>\n",
       "      <td>no</td>\n",
       "    </tr>\n",
       "    <tr>\n",
       "      <th>1</th>\n",
       "      <td>57</td>\n",
       "      <td>services</td>\n",
       "      <td>married</td>\n",
       "      <td>high.school</td>\n",
       "      <td>unknown</td>\n",
       "      <td>no</td>\n",
       "      <td>no</td>\n",
       "      <td>telephone</td>\n",
       "      <td>may</td>\n",
       "      <td>mon</td>\n",
       "      <td>149</td>\n",
       "      <td>1</td>\n",
       "      <td>999</td>\n",
       "      <td>0</td>\n",
       "      <td>nonexistent</td>\n",
       "      <td>1.1</td>\n",
       "      <td>93.994</td>\n",
       "      <td>-36.4</td>\n",
       "      <td>4.857</td>\n",
       "      <td>5191.0</td>\n",
       "      <td>no</td>\n",
       "    </tr>\n",
       "    <tr>\n",
       "      <th>2</th>\n",
       "      <td>37</td>\n",
       "      <td>services</td>\n",
       "      <td>married</td>\n",
       "      <td>high.school</td>\n",
       "      <td>no</td>\n",
       "      <td>yes</td>\n",
       "      <td>no</td>\n",
       "      <td>telephone</td>\n",
       "      <td>may</td>\n",
       "      <td>mon</td>\n",
       "      <td>226</td>\n",
       "      <td>1</td>\n",
       "      <td>999</td>\n",
       "      <td>0</td>\n",
       "      <td>nonexistent</td>\n",
       "      <td>1.1</td>\n",
       "      <td>93.994</td>\n",
       "      <td>-36.4</td>\n",
       "      <td>4.857</td>\n",
       "      <td>5191.0</td>\n",
       "      <td>no</td>\n",
       "    </tr>\n",
       "    <tr>\n",
       "      <th>3</th>\n",
       "      <td>40</td>\n",
       "      <td>admin.</td>\n",
       "      <td>married</td>\n",
       "      <td>basic.6y</td>\n",
       "      <td>no</td>\n",
       "      <td>no</td>\n",
       "      <td>no</td>\n",
       "      <td>telephone</td>\n",
       "      <td>may</td>\n",
       "      <td>mon</td>\n",
       "      <td>151</td>\n",
       "      <td>1</td>\n",
       "      <td>999</td>\n",
       "      <td>0</td>\n",
       "      <td>nonexistent</td>\n",
       "      <td>1.1</td>\n",
       "      <td>93.994</td>\n",
       "      <td>-36.4</td>\n",
       "      <td>4.857</td>\n",
       "      <td>5191.0</td>\n",
       "      <td>no</td>\n",
       "    </tr>\n",
       "    <tr>\n",
       "      <th>4</th>\n",
       "      <td>56</td>\n",
       "      <td>services</td>\n",
       "      <td>married</td>\n",
       "      <td>high.school</td>\n",
       "      <td>no</td>\n",
       "      <td>no</td>\n",
       "      <td>yes</td>\n",
       "      <td>telephone</td>\n",
       "      <td>may</td>\n",
       "      <td>mon</td>\n",
       "      <td>307</td>\n",
       "      <td>1</td>\n",
       "      <td>999</td>\n",
       "      <td>0</td>\n",
       "      <td>nonexistent</td>\n",
       "      <td>1.1</td>\n",
       "      <td>93.994</td>\n",
       "      <td>-36.4</td>\n",
       "      <td>4.857</td>\n",
       "      <td>5191.0</td>\n",
       "      <td>no</td>\n",
       "    </tr>\n",
       "  </tbody>\n",
       "</table>\n",
       "</div>"
      ],
      "text/plain": [
       "   age        job  marital    education  default housing loan    contact  \\\n",
       "0   56  housemaid  married     basic.4y       no      no   no  telephone   \n",
       "1   57   services  married  high.school  unknown      no   no  telephone   \n",
       "2   37   services  married  high.school       no     yes   no  telephone   \n",
       "3   40     admin.  married     basic.6y       no      no   no  telephone   \n",
       "4   56   services  married  high.school       no      no  yes  telephone   \n",
       "\n",
       "  month day_of_week  duration  campaign  pdays  previous     poutcome  \\\n",
       "0   may         mon       261         1    999         0  nonexistent   \n",
       "1   may         mon       149         1    999         0  nonexistent   \n",
       "2   may         mon       226         1    999         0  nonexistent   \n",
       "3   may         mon       151         1    999         0  nonexistent   \n",
       "4   may         mon       307         1    999         0  nonexistent   \n",
       "\n",
       "   emp.var.rate  cons.price.idx  cons.conf.idx  euribor3m  nr.employed   y  \n",
       "0           1.1          93.994          -36.4      4.857       5191.0  no  \n",
       "1           1.1          93.994          -36.4      4.857       5191.0  no  \n",
       "2           1.1          93.994          -36.4      4.857       5191.0  no  \n",
       "3           1.1          93.994          -36.4      4.857       5191.0  no  \n",
       "4           1.1          93.994          -36.4      4.857       5191.0  no  "
      ]
     },
     "execution_count": 3,
     "metadata": {},
     "output_type": "execute_result"
    }
   ],
   "source": [
    "data_path = r\"C:\\Users\\brzro\\concordia_bootcamp\\bank_marketing\\data\\bank-additional\\bank-additional-full.csv\"\n",
    "df = read_data(data_path)\n",
    "\n",
    "df.head()"
   ]
  },
  {
   "cell_type": "code",
   "execution_count": 4,
   "id": "716cdde1",
   "metadata": {},
   "outputs": [
    {
     "data": {
      "text/plain": [
       "Index(['age', 'job', 'marital', 'education', 'default', 'housing', 'loan',\n",
       "       'contact', 'month', 'day_of_week', 'duration', 'campaign', 'pdays',\n",
       "       'previous', 'poutcome', 'emp.var.rate', 'cons.price.idx',\n",
       "       'cons.conf.idx', 'euribor3m', 'nr.employed', 'y'],\n",
       "      dtype='object')"
      ]
     },
     "execution_count": 4,
     "metadata": {},
     "output_type": "execute_result"
    }
   ],
   "source": [
    "df.columns"
   ]
  },
  {
   "cell_type": "code",
   "execution_count": 5,
   "id": "f65bf8f8",
   "metadata": {},
   "outputs": [],
   "source": [
    "X,y = clean_data(df)\n",
    "X_train, X_test, y_train, y_test = train_test_split(X, y, test_size=0.20, random_state=12, stratify=y)\n",
    "X_t, X_v, y_t, y_v = train_test_split(X_train, y_train, test_size=0.20, random_state=12, stratify=y_train)"
   ]
  },
  {
   "cell_type": "code",
   "execution_count": 7,
   "id": "746b8c57",
   "metadata": {},
   "outputs": [],
   "source": [
    "from src.split_scaled import double_split_scale\n",
    "X_t_scaled, X_v_scaled, X_test_scaled = double_split_scale(X,y)"
   ]
  },
  {
   "cell_type": "markdown",
   "id": "72961647",
   "metadata": {},
   "source": [
    "The data is relatively imbalanced. Hence, I set stratify = yes in the train_test_split function.\n",
    "Below, we'll see that the response variable (y) is distributed uniformly in different train, validation and test sets."
   ]
  },
  {
   "cell_type": "code",
   "execution_count": 8,
   "id": "a7841256",
   "metadata": {},
   "outputs": [
    {
     "name": "stdout",
     "output_type": "stream",
     "text": [
      "0.1127\n",
      "0.1127\n",
      "0.1126\n",
      "0.1127\n"
     ]
    }
   ],
   "source": [
    "print(round(y.mean(),4))\n",
    "print(round(y_t.mean(),4))\n",
    "print(round(y_v.mean(),4))\n",
    "print(round(y_test.mean(),4))"
   ]
  },
  {
   "cell_type": "markdown",
   "id": "451e4e2e",
   "metadata": {},
   "source": [
    "# Explanatory Data Analysis:"
   ]
  },
  {
   "cell_type": "markdown",
   "id": "235b39f0",
   "metadata": {},
   "source": [
    "Below we can see that the proportion of people who subscribed to the bank (y =1) vs the proportion of people who do did not."
   ]
  },
  {
   "cell_type": "code",
   "execution_count": 9,
   "id": "bc01e660",
   "metadata": {},
   "outputs": [
    {
     "data": {
      "image/png": "[encoded data removed]",
      "text/plain": [
       "<Figure size 432x288 with 1 Axes>"
      ]
     },
     "metadata": {},
     "output_type": "display_data"
    }
   ],
   "source": [
    "x = [len(df[df['y'] == 'yes'])/len(df), len(df[df['y'] == 'no'])/len(df) ]\n",
    "plt.pie(x = x, labels=['subscribed', 'did not subscribe'], autopct='%.1f%%', shadow = 'yes');"
   ]
  },
  {
   "cell_type": "markdown",
   "id": "a414b91d",
   "metadata": {},
   "source": [
    "In the graph below we can see that how the distribution of age is different for those who subscribe to the bank. Thus, including this variable can help us to predict the response variable.  "
   ]
  },
  {
   "cell_type": "code",
   "execution_count": 10,
   "id": "f54c4663",
   "metadata": {},
   "outputs": [
    {
     "data": {
      "image/png": "[encoded data removed]",
      "text/plain": [
       "<Figure size 432x288 with 1 Axes>"
      ]
     },
     "metadata": {
      "needs_background": "light"
     },
     "output_type": "display_data"
    }
   ],
   "source": [
    "sns.distplot(df[df['y']=='yes']['age'])\n",
    "sns.distplot(df[df['y']=='no']['age']);"
   ]
  },
  {
   "cell_type": "code",
   "execution_count": 11,
   "id": "80a241ad",
   "metadata": {},
   "outputs": [
    {
     "data": {
      "image/png": "[encoded data removed]",
      "text/plain": [
       "<Figure size 432x288 with 1 Axes>"
      ]
     },
     "metadata": {
      "needs_background": "light"
     },
     "output_type": "display_data"
    }
   ],
   "source": [
    "plt.figure(figsize=(6,4))\n",
    "sns.barplot(df['month'].value_counts().values, df['month'].value_counts().index) # how to add hue\n",
    "plt.title('month')\n",
    "plt.tight_layout();"
   ]
  },
  {
   "cell_type": "code",
   "execution_count": 12,
   "id": "fa01ca25",
   "metadata": {},
   "outputs": [
    {
     "data": {
      "image/png": "[encoded data removed]",
      "text/plain": [
       "<Figure size 432x288 with 1 Axes>"
      ]
     },
     "metadata": {
      "needs_background": "light"
     },
     "output_type": "display_data"
    }
   ],
   "source": [
    "plt.figure(figsize=(6,4))\n",
    "sns.barplot(df['contact'].value_counts().values, df['contact'].value_counts().index) # how to add hue\n",
    "plt.title('contact')\n",
    "plt.tight_layout();"
   ]
  },
  {
   "cell_type": "code",
   "execution_count": 13,
   "id": "b95b80bc",
   "metadata": {},
   "outputs": [
    {
     "data": {
      "image/png": "[encoded data removed]",
      "text/plain": [
       "<Figure size 432x288 with 1 Axes>"
      ]
     },
     "metadata": {
      "needs_background": "light"
     },
     "output_type": "display_data"
    }
   ],
   "source": [
    "plt.figure(figsize=(6,4))\n",
    "sns.barplot(df['loan'].value_counts().values, df['loan'].value_counts().index) # how to add hue\n",
    "plt.title('loan')\n",
    "plt.tight_layout();"
   ]
  },
  {
   "cell_type": "markdown",
   "id": "521a83c9",
   "metadata": {},
   "source": [
    "Below, we can see correlation of the numerical variables with the response variable. 'Duration' is only known after bank makes the call. Therefore, it must be removed from the analysis. Including this variable in our analysis results in having a higher model performance (since it is moderatly correlated with y); however, it has no value in what the goal of this project is, which is finding the candidates who are more likely to subscribe to the bank.\n",
    "\n",
    "By the way why we do care about correlation?"
   ]
  },
  {
   "cell_type": "code",
   "execution_count": 14,
   "id": "6e449280",
   "metadata": {},
   "outputs": [
    {
     "data": {
      "image/png": "[encoded data removed]",
      "text/plain": [
       "<Figure size 432x288 with 1 Axes>"
      ]
     },
     "metadata": {
      "needs_background": "light"
     },
     "output_type": "display_data"
    }
   ],
   "source": [
    "df['y'] = np.where(df['y'] == 'yes', 1, 0)\n",
    "sns.barplot(df.corr()['y'].sort_values()[:-1].values, df.corr()['y'].sort_values()[:-1].index);"
   ]
  },
  {
   "cell_type": "markdown",
   "id": "ad90a3a1",
   "metadata": {},
   "source": [
    "# Machine Learning Models:"
   ]
  },
  {
   "cell_type": "markdown",
   "id": "a573ec65",
   "metadata": {},
   "source": [
    "To choose the best possible hyperparameters for each of the first three models, I used GridSearchCV."
   ]
  },
  {
   "cell_type": "markdown",
   "id": "937b9498",
   "metadata": {},
   "source": [
    "### 1 - Logistic Regression"
   ]
  },
  {
   "cell_type": "code",
   "execution_count": 15,
   "id": "d94047cb",
   "metadata": {},
   "outputs": [
    {
     "name": "stdout",
     "output_type": "stream",
     "text": [
      "The Balanced Accuracy score of the Logistic Regression is: 72.11 %\n"
     ]
    }
   ],
   "source": [
    "from src.logi_regression import logistic_fit, logistic_predictor, logistic_predict_proba\n",
    "#logistic_fit(X_t, y_t)\n",
    "pred_lr = logistic_predictor(X_v)\n",
    "print('The Balanced Accuracy score of the Logistic Regression is:',\n",
    "      round(balanced_accuracy_score(y_v, pred_lr)*100, 2),'%')"
   ]
  },
  {
   "cell_type": "code",
   "execution_count": 16,
   "id": "e314c3fb",
   "metadata": {},
   "outputs": [
    {
     "name": "stdout",
     "output_type": "stream",
     "text": [
      "The AUC of the logistic regression is: 0.77\n"
     ]
    }
   ],
   "source": [
    "pred_proba_lr = logistic_predict_proba(X_v)\n",
    "AUC = roc_auc_score(y_v, pred_proba_lr)\n",
    "print('The AUC of the logistic regression is:', round(AUC,2))"
   ]
  },
  {
   "cell_type": "markdown",
   "id": "f4d91495",
   "metadata": {},
   "source": [
    "### 2 - Support Vector Machines"
   ]
  },
  {
   "cell_type": "code",
   "execution_count": 17,
   "id": "8ccab306",
   "metadata": {},
   "outputs": [
    {
     "name": "stdout",
     "output_type": "stream",
     "text": [
      "The Balanced Accuracy score of the SVC is: 72.63 %\n"
     ]
    }
   ],
   "source": [
    "from src.svm_model import svc_fit, svc_predictor\n",
    "#svc_fit(X_t_scaled, y_t)\n",
    "pred_svc = svc_predictor(X_v_scaled)\n",
    "print('The Balanced Accuracy score of the SVC is:',\n",
    "      round(balanced_accuracy_score(y_v, pred_svc)*100, 2),'%')"
   ]
  },
  {
   "cell_type": "markdown",
   "id": "2c3ea124",
   "metadata": {},
   "source": [
    "Support Vector Machines outperform logistic regression by a mere 0.5%. However, I did not choos it as the best model for prediction. This is because this model underestimates the number of the y=1 s. Therefore, it is not in line with the primary goal of the bank which is a profit maximizing problem."
   ]
  },
  {
   "cell_type": "markdown",
   "id": "24530717",
   "metadata": {},
   "source": [
    "### 3 - Decision Trees"
   ]
  },
  {
   "cell_type": "code",
   "execution_count": 18,
   "id": "6023562b",
   "metadata": {},
   "outputs": [
    {
     "name": "stdout",
     "output_type": "stream",
     "text": [
      "The Balanced Accuracy score of the Decision Tree is: 69.52 %\n"
     ]
    }
   ],
   "source": [
    "from src.decision_tree import dt_fit, dt_predict_proba, dt_predictor\n",
    "#dt_fit(X_t_scaled, y_t)\n",
    "pred_dt = dt_predictor(X_v_scaled)\n",
    "print('The Balanced Accuracy score of the Decision Tree is:',\n",
    "      round(balanced_accuracy_score(y_v, pred_dt)*100, 2),'%')"
   ]
  },
  {
   "cell_type": "code",
   "execution_count": 19,
   "id": "2cacdc1e",
   "metadata": {},
   "outputs": [
    {
     "name": "stdout",
     "output_type": "stream",
     "text": [
      "The AUC of the Decision Tree is: 0.72\n"
     ]
    }
   ],
   "source": [
    "pred_proba_dt = dt_predict_proba(X_v_scaled)\n",
    "AUC = roc_auc_score(y_v, pred_proba_dt)\n",
    "print('The AUC of the Decision Tree is:', round(AUC,2))"
   ]
  },
  {
   "cell_type": "markdown",
   "id": "d20b8a18",
   "metadata": {},
   "source": [
    "### 4 - Ensemble"
   ]
  },
  {
   "cell_type": "markdown",
   "id": "c21bf6f2",
   "metadata": {},
   "source": [
    "Have you seen that a team of normal people can normally beat a smart guy? This is what we want to replicate by using ensemble. We want to use a number of models and then see their predictions for each observation. The final outcome is the majority vote between the models. Also, by altering the hyperparameter 'weight' we can give different weights to each model.\n",
    "\n",
    "Wasn't it supposed to perform better? why it could not beat the other models? \n",
    "One possible (and most probable one in my opinion) is that these models follow a similar pattern to make predictions. Also, we are feeding each with the same training data, and we similar (if not exactly the same) features in each model. Thus, their predictions are correlated with each other, resulting in an accuracy similar to the previous models."
   ]
  },
  {
   "cell_type": "code",
   "execution_count": 20,
   "id": "2ecdbe82",
   "metadata": {},
   "outputs": [
    {
     "name": "stdout",
     "output_type": "stream",
     "text": [
      "The Balanced Accuracy of the Ensemble is: 72.1 %\n"
     ]
    }
   ],
   "source": [
    "from src.ens import ensemble_fit, ensemble_predictor, ensemble_predict_proba\n",
    "#ensemble_fit(X_t_scaled, y_t)\n",
    "pred_ens = ensemble_predictor(X_v_scaled)\n",
    "print('The Balanced Accuracy of the Ensemble is:',\n",
    "     round(balanced_accuracy_score(y_v,pred_ens)*100,2), '%')"
   ]
  },
  {
   "cell_type": "markdown",
   "id": "cefa1dc0",
   "metadata": {},
   "source": [
    "# Performance on the Unseen Data (Test Set)"
   ]
  },
  {
   "cell_type": "code",
   "execution_count": 21,
   "id": "cb8cf235",
   "metadata": {},
   "outputs": [
    {
     "name": "stdout",
     "output_type": "stream",
     "text": [
      "Balanced Accuracy Score of the model on unseen data is 73.8 %\n"
     ]
    }
   ],
   "source": [
    "pred_test = logistic_predictor(X_test)\n",
    "print('Balanced Accuracy Score of the model on unseen data is', \n",
    "     round(balanced_accuracy_score(y_test, pred_test)*100, 2), '%')"
   ]
  },
  {
   "cell_type": "code",
   "execution_count": 22,
   "id": "ea4fb47a",
   "metadata": {},
   "outputs": [
    {
     "name": "stdout",
     "output_type": "stream",
     "text": [
      "The AUC of the logistic regression is: 0.79\n"
     ]
    }
   ],
   "source": [
    "pred_proba_test = logistic_predict_proba(X_test)\n",
    "AUC = roc_auc_score(y_test, pred_proba_test)\n",
    "print('The AUC of the logistic regression is:', round(AUC,2))"
   ]
  },
  {
   "cell_type": "markdown",
   "id": "b47c8db8",
   "metadata": {},
   "source": [
    "predicting a single row:"
   ]
  },
  {
   "cell_type": "code",
   "execution_count": 23,
   "id": "fe786d81",
   "metadata": {},
   "outputs": [
    {
     "name": "stdout",
     "output_type": "stream",
     "text": [
      "The model predicts that the outcome for the row 600 of the test data is: [0]\n",
      "The model predicts that the outcome for the row 602 of the test data is: [1]\n"
     ]
    }
   ],
   "source": [
    "from src.final_predictor import predictor\n",
    "\n",
    "print('The model predicts that the outcome for the row 600 of the test data is:',\n",
    "      predictor(X_test.iloc[600]))\n",
    "print('The model predicts that the outcome for the row 602 of the test data is:',\n",
    "      predictor(X_test.iloc[602]))"
   ]
  },
  {
   "cell_type": "markdown",
   "id": "8c1dfa95",
   "metadata": {},
   "source": [
    "But Seriously, we studied this much to choose logistic regression as the best model?\n",
    "Talk about the three sources of the error:\n",
    "- noise\n",
    "- bias\n",
    "- variance\n",
    "Which model does perform better  at the end?"
   ]
  },
  {
   "cell_type": "markdown",
   "id": "e5dbf301",
   "metadata": {},
   "source": [
    "For the deployment part:\n"
   ]
  },
  {
   "cell_type": "code",
   "execution_count": 24,
   "id": "594e5bc7",
   "metadata": {},
   "outputs": [
    {
     "name": "stdout",
     "output_type": "stream",
     "text": [
      "[0]\n"
     ]
    },
    {
     "data": {
      "text/plain": [
       "'{\"age\":56.0,\"campaign\":2.0,\"pdays\":0.0,\"previous\":0.0,\"emp.var.rate\":1.1,\"cons.price.idx\":93.994,\"cons.conf.idx\":-36.4,\"euribor3m\":4.86,\"nr.employed\":5191.0,\"job_blue-collar\":0.0,\"job_entrepreneur\":0.0,\"job_housemaid\":0.0,\"job_management\":1.0,\"job_retired\":0.0,\"job_self-employed\":0.0,\"job_services\":0.0,\"job_student\":0.0,\"job_technician\":0.0,\"job_unemployed\":0.0,\"job_unknown\":0.0,\"marital_married\":0.0,\"marital_single\":0.0,\"marital_unknown\":0.0,\"education_high.school\":0.0,\"education_illiterate\":0.0,\"education_professional.course\":0.0,\"education_university.degree\":1.0,\"education_unknown\":0.0,\"default_unknown\":0.0,\"default_yes\":0.0,\"housing_unknown\":0.0,\"housing_yes\":1.0,\"loan_unknown\":0.0,\"loan_yes\":0.0,\"contact_telephone\":1.0,\"month_aug\":0.0,\"month_dec\":0.0,\"month_jul\":0.0,\"month_jun\":0.0,\"month_mar\":0.0,\"month_may\":1.0,\"month_nov\":0.0,\"month_oct\":0.0,\"month_sep\":0.0,\"day_of_week_mon\":0.0,\"day_of_week_thu\":1.0,\"day_of_week_tue\":0.0,\"day_of_week_wed\":0.0,\"poutcome_nonexistent\":1.0,\"poutcome_success\":0.0}'"
      ]
     },
     "execution_count": 24,
     "metadata": {},
     "output_type": "execute_result"
    }
   ],
   "source": [
    "x = X_test.iloc[60]\n",
    "print(predictor(x))\n",
    "x1 = x.to_json()\n",
    "x1"
   ]
  },
  {
   "cell_type": "code",
   "execution_count": 171,
   "id": "87a9e724",
   "metadata": {},
   "outputs": [
    {
     "name": "stdout",
     "output_type": "stream",
     "text": [
      "[1]\n"
     ]
    },
    {
     "data": {
      "text/plain": [
       "'{\"age\":31.0,\"campaign\":1.0,\"pdays\":0.0,\"previous\":0.0,\"emp.var.rate\":-1.8,\"cons.price.idx\":93.075,\"cons.conf.idx\":-47.1,\"euribor3m\":1.405,\"nr.employed\":5099.1,\"job_blue-collar\":0.0,\"job_entrepreneur\":0.0,\"job_housemaid\":0.0,\"job_management\":0.0,\"job_retired\":0.0,\"job_self-employed\":0.0,\"job_services\":0.0,\"job_student\":0.0,\"job_technician\":0.0,\"job_unemployed\":0.0,\"job_unknown\":0.0,\"marital_married\":0.0,\"marital_single\":1.0,\"marital_unknown\":0.0,\"education_high.school\":0.0,\"education_illiterate\":0.0,\"education_professional.course\":0.0,\"education_university.degree\":1.0,\"education_unknown\":0.0,\"default_unknown\":0.0,\"default_yes\":0.0,\"housing_unknown\":0.0,\"housing_yes\":0.0,\"loan_unknown\":0.0,\"loan_yes\":1.0,\"contact_telephone\":0.0,\"month_aug\":0.0,\"month_dec\":0.0,\"month_jul\":0.0,\"month_jun\":0.0,\"month_mar\":0.0,\"month_may\":0.0,\"month_nov\":0.0,\"month_oct\":0.0,\"month_sep\":0.0,\"day_of_week_mon\":0.0,\"day_of_week_thu\":0.0,\"day_of_week_tue\":0.0,\"day_of_week_wed\":0.0,\"poutcome_nonexistent\":1.0,\"poutcome_success\":0.0}'"
      ]
     },
     "execution_count": 171,
     "metadata": {},
     "output_type": "execute_result"
    }
   ],
   "source": [
    "x = X_test.iloc[856]\n",
    "print(predictor(x))\n",
    "x1 = x.to_json()\n",
    "x1"
   ]
  }
 ],
 "metadata": {
  "kernelspec": {
   "display_name": "Python 3 (ipykernel)",
   "language": "python",
   "name": "python3"
  },
  "language_info": {
   "codemirror_mode": {
    "name": "ipython",
    "version": 3
   },
   "file_extension": ".py",
   "mimetype": "text/x-python",
   "name": "python",
   "nbconvert_exporter": "python",
   "pygments_lexer": "ipython3",
   "version": "3.9.12"
  }
 },
 "nbformat": 4,
 "nbformat_minor": 5
}
